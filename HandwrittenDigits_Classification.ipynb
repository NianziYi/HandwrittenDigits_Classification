{
 "cells": [
  {
   "cell_type": "code",
   "execution_count": 1,
   "metadata": {},
   "outputs": [],
   "source": [
    "import matplotlib.pyplot as plt\n",
    "import pandas as pd\n",
    "import numpy as np"
   ]
  },
  {
   "cell_type": "code",
   "execution_count": 2,
   "metadata": {},
   "outputs": [],
   "source": [
    "#create the dataframe by reading 'handwriting_training_set.csv' file\n",
    "training_set = pd.read_csv('handwriting_training_set.csv', header=None)\n",
    "test_set = pd.read_csv('handwriting_test_set.csv', header=None)"
   ]
  },
  {
   "cell_type": "code",
   "execution_count": 3,
   "metadata": {},
   "outputs": [],
   "source": [
    "#split 10 digit from training set\n",
    "digit_0,digit_1,digit_2,digit_3,digit_4,digit_5,digit_6,digit_7,digit_8,digit_9 = np.array_split(training_set,10)"
   ]
  },
  {
   "cell_type": "code",
   "execution_count": 4,
   "metadata": {},
   "outputs": [],
   "source": [
    "#put 10 digit class matrix into a list\n",
    "digit_list = []\n",
    "digit_list.append(digit_0)\n",
    "digit_list.append(digit_1)\n",
    "digit_list.append(digit_2)\n",
    "digit_list.append(digit_3)\n",
    "digit_list.append(digit_4)\n",
    "digit_list.append(digit_5)\n",
    "digit_list.append(digit_6)\n",
    "digit_list.append(digit_7)\n",
    "digit_list.append(digit_8)\n",
    "digit_list.append(digit_9)"
   ]
  },
  {
   "cell_type": "code",
   "execution_count": 5,
   "metadata": {},
   "outputs": [],
   "source": [
    "#this function is used to calculate svd of each digit class, and return matrix U and matrix sigma of each digit class\n",
    "def calculateSVD(digitMatrix):\n",
    "    digitMatrix_T = digitMatrix.T\n",
    "    ui,si,vhi = np.linalg.svd(digitMatrix_T, full_matrices=True)\n",
    "    return ui,si"
   ]
  },
  {
   "cell_type": "code",
   "execution_count": 6,
   "metadata": {},
   "outputs": [],
   "source": [
    "#put all matrix U of 10 digit class into a list u_list\n",
    "#put all matrix si of 10 digit class into a list si_list\n",
    "u_list = []\n",
    "si_list = []\n",
    "for di in digit_list:\n",
    "    ui,si = calculateSVD(di)\n",
    "    u_list.append(ui)\n",
    "    si_list.append(si)"
   ]
  },
  {
   "cell_type": "code",
   "execution_count": 7,
   "metadata": {},
   "outputs": [],
   "source": [
    "# square() squares each element in list\n",
    "def square(list):\n",
    "    return [i ** 2 for i in list]"
   ]
  },
  {
   "cell_type": "code",
   "execution_count": 8,
   "metadata": {},
   "outputs": [],
   "source": [
    "#index_of_minimum() is used to find the position of the minimum element is a list\n",
    "def index_of_minimum(list):\n",
    "    return list.index(min(list))"
   ]
  },
  {
   "cell_type": "markdown",
   "metadata": {},
   "source": [
    "# Classify Digit"
   ]
  },
  {
   "cell_type": "code",
   "execution_count": 9,
   "metadata": {},
   "outputs": [],
   "source": [
    "rank = [5,10,15,20] #this list contains 4 rank vlues\n",
    "predict_list_r = [] #this list contains predicted result based on each r\n",
    "\n",
    "#classify_digit() classifies digits in test set and return prediction list based on diffrent r value\n",
    "def classify_digit():\n",
    "    for r in rank: #traverse each r in rank list\n",
    "        u_list_r = [] #u_list_r contains matrix ui_r \n",
    "        predict_list = [] #store 1000 prediction result based on current r\n",
    "        \n",
    "        for ui in u_list:\n",
    "            ui_r = ui[:,:r] #matrix ui_r only takes r columns from matrix ui\n",
    "            u_list_r.append(ui_r)\n",
    "            \n",
    "        \n",
    "        for j in range(len(test_set)): #pick each sample in test set, and do classification\n",
    "            residual = [] #residual contains all 10 residuals after y is projected onto 10 ui matrices\n",
    "            y = test_set.iloc[j,:] #y is a single sample that needs to be classified\n",
    "            \n",
    "            for i in range(len(u_list_r)): #pick each ui_r from u_list_r\n",
    "                ui_r_temp = u_list_r[i]\n",
    "                y_hat_i = np.matmul( ui_r_temp, np.matmul(ui_r_temp.T, y) ) #project y onto each ui_r get y_hat_i\n",
    "                residual_i = np.sqrt(sum( square(y-y_hat_i) )) #find the norm of y-y_hat_i\n",
    "                residual.append(residual_i) #append 10 residual_i to residual list\n",
    "                \n",
    "            predicted_digit = index_of_minimum(residual) #the index of the minimum element is the list the predicted result for sample y\n",
    "            predict_list.append(predicted_digit) #append the prediction to predict_list based on current r\n",
    "            \n",
    "        predict_list_r.append(predict_list)  #put predict result list from 4 different r into a list\n",
    "        \n",
    "\n",
    "    return predict_list_r            \n",
    "    "
   ]
  },
  {
   "cell_type": "markdown",
   "metadata": {},
   "source": [
    "# Part A.i"
   ]
  },
  {
   "cell_type": "code",
   "execution_count": 10,
   "metadata": {},
   "outputs": [],
   "source": [
    "#load ground truth result \n",
    "test_set_labels = pd.read_csv('handwriting_test_set_labels.csv', header=None)"
   ]
  },
  {
   "cell_type": "code",
   "execution_count": 11,
   "metadata": {},
   "outputs": [],
   "source": [
    "predict_list_r = classify_digit()"
   ]
  },
  {
   "cell_type": "code",
   "execution_count": 12,
   "metadata": {},
   "outputs": [
    {
     "name": "stdout",
     "output_type": "stream",
     "text": [
      "When r =  5   accuracy =  0.918\n",
      "When r =  10   accuracy =  0.944\n",
      "When r =  15   accuracy =  0.953\n",
      "When r =  20   accuracy =  0.957\n"
     ]
    }
   ],
   "source": [
    "#compare predicted labels and actual labels list\n",
    "for j in range(len(predict_list_r)):\n",
    "    r = rank[j]\n",
    "    predict_list = predict_list_r[j]\n",
    "    false = 0\n",
    "    true = 0\n",
    "\n",
    "    for i in range(len(predict_list)):\n",
    "        label = test_set_labels.iloc[i,:].values\n",
    "        predict = predict_list[i]\n",
    "        if (label==10) & (predict==0):\n",
    "            true = true + 1\n",
    "        elif label == predict:\n",
    "            true = true + 1\n",
    "        else:\n",
    "            false = false + 1\n",
    "    \n",
    "    accuracy = true / len(predict_list)\n",
    "    print('When r = ', r, '  accuracy = ', accuracy)"
   ]
  },
  {
   "cell_type": "markdown",
   "metadata": {},
   "source": [
    "# Part A.ii"
   ]
  },
  {
   "cell_type": "code",
   "execution_count": 19,
   "metadata": {},
   "outputs": [],
   "source": [
    "test_set_labels_list = test_set_labels.values.tolist() #convert dataframe to list"
   ]
  },
  {
   "cell_type": "code",
   "execution_count": 20,
   "metadata": {},
   "outputs": [],
   "source": [
    "count = [0] * 10 # this list contains count of each digit class in test_set_label\n",
    "for label_list in (test_set_labels_list):\n",
    "    label = label_list[0]\n",
    "    if  label==10: count[0] = count[0]+1\n",
    "    elif label==1: count[1] = count[1]+1 \n",
    "    elif label==2: count[2] = count[2]+1\n",
    "    elif label==3: count[3] = count[3]+1\n",
    "    elif label==4: count[4] = count[4]+1\n",
    "    elif label==5: count[5] = count[5]+1\n",
    "    elif label==6: count[6] = count[6]+1\n",
    "    elif label==7: count[7] = count[7]+1\n",
    "    elif label==8: count[8] = count[8]+1\n",
    "    else : count[9] = count[9]+1"
   ]
  },
  {
   "cell_type": "code",
   "execution_count": 21,
   "metadata": {},
   "outputs": [],
   "source": [
    "predict_list_20 = predict_list_r[3]\n",
    "true = [0] * 10 #this list contains true count for digit 0...9\n",
    "\n",
    "#find correct prediction count for each digit class based on the highest accuracy when r=20\n",
    "for i in range(len(predict_list_20)): \n",
    "    label = test_set_labels.iloc[i,:].values\n",
    "    predict = predict_list_20[i]\n",
    "    \n",
    "    if (label==10) & (predict==0):\n",
    "        true[0] = true[0] + 1\n",
    "    elif (label==1) & (predict==1):\n",
    "        true[1] = true[1] + 1\n",
    "    elif (label==2) & (predict==2):\n",
    "        true[2] = true[2] + 1\n",
    "    elif (label==3) & (predict==3):\n",
    "        true[3] = true[3] + 1\n",
    "    elif (label==4) & (predict==4):\n",
    "        true[4] = true[4] + 1\n",
    "    elif (label==5) & (predict==5):\n",
    "        true[5] = true[5] + 1\n",
    "    elif (label==6) & (predict==6):\n",
    "        true[6] = true[6] + 1\n",
    "    elif (label==7) & (predict==7):\n",
    "        true[7] = true[7] + 1\n",
    "    elif (label==8) & (predict==8):\n",
    "        true[8] = true[8] + 1\n",
    "    elif (label==9) & (predict==9):\n",
    "        true[9] = true[9] + 1"
   ]
  },
  {
   "cell_type": "code",
   "execution_count": 23,
   "metadata": {},
   "outputs": [
    {
     "name": "stdout",
     "output_type": "stream",
     "text": [
      "When number of basis = 20: (gives best general accuracy)\n",
      "when digit =  0    accuracy =  1.0\n",
      "when digit =  1    accuracy =  0.99\n",
      "when digit =  2    accuracy =  0.89\n",
      "when digit =  3    accuracy =  0.93\n",
      "when digit =  4    accuracy =  0.96\n",
      "when digit =  5    accuracy =  0.96\n",
      "when digit =  6    accuracy =  1.0\n",
      "when digit =  7    accuracy =  0.97\n",
      "when digit =  8    accuracy =  0.89\n",
      "when digit =  9    accuracy =  0.98\n"
     ]
    }
   ],
   "source": [
    "print('When number of basis = 20: (gives best general accuracy)')\n",
    "for i in range(len(true)): #find accuracy for each digit class\n",
    "    accuracy = true[i] / count[i]\n",
    "    print('when digit = ', i, '   accuracy = ', accuracy)"
   ]
  },
  {
   "cell_type": "markdown",
   "metadata": {},
   "source": [
    "## digit 8 and digit 2 are the two classes which are most difficult to be classified"
   ]
  },
  {
   "cell_type": "code",
   "execution_count": 17,
   "metadata": {},
   "outputs": [
    {
     "data": {
      "text/plain": [
       "<matplotlib.image.AxesImage at 0x7fc306c54ef0>"
      ]
     },
     "execution_count": 17,
     "metadata": {},
     "output_type": "execute_result"
    },
    {
     "data": {
      "image/png": "[encoded data removed]",
      "text/plain": [
       "<Figure size 288x288 with 1 Axes>"
      ]
     },
     "metadata": {
      "needs_background": "light"
     },
     "output_type": "display_data"
    },
    {
     "data": {
      "image/png": "[encoded data removed]",
      "text/plain": [
       "<Figure size 288x288 with 1 Axes>"
      ]
     },
     "metadata": {
      "needs_background": "light"
     },
     "output_type": "display_data"
    },
    {
     "data": {
      "image/png": "[encoded data removed]",
      "text/plain": [
       "<Figure size 288x288 with 1 Axes>"
      ]
     },
     "metadata": {
      "needs_background": "light"
     },
     "output_type": "display_data"
    }
   ],
   "source": [
    "#print out three image samples from digit 8 class\n",
    "test1_d8 = test_set.iloc[1,:].to_numpy()\n",
    "test1_d8 = test1_d8.reshape((20,20))\n",
    "plt.matshow(test1_d8,cmap='gray')\n",
    "test2_d8 = test_set.iloc[3,:].to_numpy()\n",
    "test2_d8 = test2_d8.reshape((20,20))\n",
    "plt.matshow(test2_d8,cmap='gray')\n",
    "test3_d8 = test_set.iloc[999,:].to_numpy()\n",
    "test3_d8 = test3_d8.reshape((20,20))\n",
    "plt.matshow(test3_d8,cmap='gray')"
   ]
  },
  {
   "cell_type": "code",
   "execution_count": 18,
   "metadata": {},
   "outputs": [
    {
     "data": {
      "text/plain": [
       "<matplotlib.image.AxesImage at 0x7fc30a209d68>"
      ]
     },
     "execution_count": 18,
     "metadata": {},
     "output_type": "execute_result"
    },
    {
     "data": {
      "image/png": "[encoded data removed]",
      "text/plain": [
       "<Figure size 288x288 with 1 Axes>"
      ]
     },
     "metadata": {
      "needs_background": "light"
     },
     "output_type": "display_data"
    },
    {
     "data": {
      "image/png": "[encoded data removed]",
      "text/plain": [
       "<Figure size 288x288 with 1 Axes>"
      ]
     },
     "metadata": {
      "needs_background": "light"
     },
     "output_type": "display_data"
    },
    {
     "data": {
      "image/png": "[encoded data removed]",
      "text/plain": [
       "<Figure size 288x288 with 1 Axes>"
      ]
     },
     "metadata": {
      "needs_background": "light"
     },
     "output_type": "display_data"
    }
   ],
   "source": [
    "#print out three image samples from digit 2 class\n",
    "test1_d2 = test_set.iloc[28,:].to_numpy()\n",
    "test1_d2 = test1_d2.reshape((20,20))\n",
    "plt.matshow(test1_d2,cmap='gray')\n",
    "test2_d2 = test_set.iloc[18,:].to_numpy()\n",
    "test2_d2 = test2_d2.reshape((20,20))\n",
    "plt.matshow(test2_d2,cmap='gray')\n",
    "test3_d2 = test_set.iloc[976,:].to_numpy()\n",
    "test3_d2 = test3_d2.reshape((20,20))\n",
    "plt.matshow(test3_d2,cmap='gray')"
   ]
  },
  {
   "cell_type": "markdown",
   "metadata": {},
   "source": [
    "# Part A . iii"
   ]
  },
  {
   "cell_type": "code",
   "execution_count": 31,
   "metadata": {},
   "outputs": [
    {
     "name": "stdout",
     "output_type": "stream",
     "text": [
      "When number of basis =  5\n",
      "when digit =  0    accuracy =  0.99\n",
      "when digit =  1    accuracy =  0.98\n",
      "when digit =  2    accuracy =  0.87\n",
      "when digit =  3    accuracy =  0.89\n",
      "when digit =  4    accuracy =  0.9\n",
      "when digit =  5    accuracy =  0.86\n",
      "when digit =  6    accuracy =  0.98\n",
      "when digit =  7    accuracy =  0.93\n",
      "when digit =  8    accuracy =  0.88\n",
      "when digit =  9    accuracy =  0.9\n",
      "When number of basis =  10\n",
      "when digit =  0    accuracy =  1.0\n",
      "when digit =  1    accuracy =  0.99\n",
      "when digit =  2    accuracy =  0.88\n",
      "when digit =  3    accuracy =  0.93\n",
      "when digit =  4    accuracy =  0.94\n",
      "when digit =  5    accuracy =  0.94\n",
      "when digit =  6    accuracy =  0.98\n",
      "when digit =  7    accuracy =  0.94\n",
      "when digit =  8    accuracy =  0.89\n",
      "when digit =  9    accuracy =  0.95\n",
      "When number of basis =  15\n",
      "when digit =  0    accuracy =  1.0\n",
      "when digit =  1    accuracy =  0.99\n",
      "when digit =  2    accuracy =  0.89\n",
      "when digit =  3    accuracy =  0.94\n",
      "when digit =  4    accuracy =  0.97\n",
      "when digit =  5    accuracy =  0.95\n",
      "when digit =  6    accuracy =  0.98\n",
      "when digit =  7    accuracy =  0.96\n",
      "when digit =  8    accuracy =  0.89\n",
      "when digit =  9    accuracy =  0.96\n",
      "When number of basis =  20\n",
      "when digit =  0    accuracy =  1.0\n",
      "when digit =  1    accuracy =  0.99\n",
      "when digit =  2    accuracy =  0.89\n",
      "when digit =  3    accuracy =  0.93\n",
      "when digit =  4    accuracy =  0.96\n",
      "when digit =  5    accuracy =  0.96\n",
      "when digit =  6    accuracy =  1.0\n",
      "when digit =  7    accuracy =  0.97\n",
      "when digit =  8    accuracy =  0.89\n",
      "when digit =  9    accuracy =  0.98\n"
     ]
    }
   ],
   "source": [
    "for j in range (4):\n",
    "    rank = [5,10,15,20]\n",
    "    true = [0] * 10 #this list contains true count for digit 0...9\n",
    "    predict_list_j = predict_list_r[j]\n",
    "    \n",
    "    for i in range(len(predict_list_j)): \n",
    "        label = test_set_labels.iloc[i,:].values\n",
    "        predict = predict_list_j[i]\n",
    "    \n",
    "        if (label==10) & (predict==0):\n",
    "            true[0] = true[0] + 1\n",
    "        elif (label==1) & (predict==1):\n",
    "            true[1] = true[1] + 1\n",
    "        elif (label==2) & (predict==2):\n",
    "            true[2] = true[2] + 1\n",
    "        elif (label==3) & (predict==3):\n",
    "            true[3] = true[3] + 1\n",
    "        elif (label==4) & (predict==4):\n",
    "            true[4] = true[4] + 1\n",
    "        elif (label==5) & (predict==5):\n",
    "            true[5] = true[5] + 1\n",
    "        elif (label==6) & (predict==6):\n",
    "            true[6] = true[6] + 1\n",
    "        elif (label==7) & (predict==7):\n",
    "            true[7] = true[7] + 1\n",
    "        elif (label==8) & (predict==8):\n",
    "            true[8] = true[8] + 1\n",
    "        elif (label==9) & (predict==9):\n",
    "            true[9] = true[9] + 1\n",
    "    \n",
    "    print('When number of basis = ', rank[j])\n",
    "    for i in range(len(true)): #find accuracy for each digit class\n",
    "        accuracy = true[i] / count[i]\n",
    "        print('when digit = ', i, '   accuracy = ', accuracy)\n",
    "    "
   ]
  },
  {
   "cell_type": "markdown",
   "metadata": {},
   "source": [
    "# Part B"
   ]
  },
  {
   "cell_type": "code",
   "execution_count": 32,
   "metadata": {},
   "outputs": [],
   "source": [
    "#this function process matrix ui_1 by only taking one column from ui\n",
    "def get_ui_1():\n",
    "    u_list_1 = [] #u_list_1 contains matrix ui_1 \n",
    "    for ui in u_list:\n",
    "        ui_1 = ui[:,:1] #matrix ui_1 only takes 1 column from matrix ui\n",
    "        u_list_1.append(ui_1)\n",
    "    return u_list_1"
   ]
  },
  {
   "cell_type": "code",
   "execution_count": 33,
   "metadata": {},
   "outputs": [],
   "source": [
    "#this function return the max difference between elements in a list\n",
    "def getMaxDif(list):\n",
    "    min_v = list[0]\n",
    "    max_d = 0\n",
    "    for i in range(len(list)):\n",
    "        if (list[i] < min_v):\n",
    "            vmin = list[i]\n",
    "        elif (list[i] - min_v > max_d):\n",
    "            max_d = list[i] - min_v\n",
    "    return max_d"
   ]
  },
  {
   "cell_type": "code",
   "execution_count": 34,
   "metadata": {},
   "outputs": [],
   "source": [
    "rank = [5,10,15,20] #this list contains 4 rank vlues\n",
    "predict_list_r_twostage = [] #this list contains predicted result based on each r\n",
    "\n",
    "#classify_digit_twostage() classifies digits in test set and return prediction list based on diffrent r value\n",
    "def classify_digit_twostage():\n",
    "    u_list_1 = get_ui_1()\n",
    "    predict_list_1 = [] ##store 1000 prediction result based on r=1\n",
    "    \n",
    "    for r in rank: #traverse each r in rank list\n",
    "        u_list_r = [] #u_list_r contains matrix ui_r \n",
    "        predict_list = [] #store 1000 prediction result based on current r\n",
    "        \n",
    "        for ui in u_list:\n",
    "            ui_r = ui[:,:r] #matrix ui_r only takes r columns from matrix ui\n",
    "            u_list_r.append(ui_r)\n",
    "            \n",
    "        \n",
    "        for j in range(len(test_set)): #pick each sample in test set, and do classification\n",
    "            residual = [] #residual contains all 10 residuals after y is projected onto 10 ui matrices when r=5,10,15,20\n",
    "            residual_1 = [] #residual_1 contains all 10 residuals after y is projected onto 10 ui matrices when r=1\n",
    "            y = test_set.iloc[j,:] #y is a single sample that needs to be classified\n",
    "            \n",
    "            for k in range(len(u_list_1)):\n",
    "                ui_1_temp = u_list_1[k]\n",
    "                y_hat_i = np.matmul( ui_1_temp, np.matmul(ui_1_temp.T, y) ) #project y onto each ui_1 get y_hat_i\n",
    "                residual_1_i = np.sqrt(sum( square(y-y_hat_i) )) #find the norm of y-y_hat_i\n",
    "                residual_1.append(residual_1_i) #append 10 residual_i to residual_1 list\n",
    "            maxD = getMaxDif(residual_1) #find the max difference between residuals for each sample y\n",
    "            \n",
    "            if maxD >= 1 :  #if one residual is significantly larger that the other (difference>=1),predict the digit using only one singular vector\n",
    "                predicted_digit = index_of_minimum(residual_1)\n",
    "                predict_list.append(predicted_digit)\n",
    "            else: #else predict digit like part A\n",
    "                for i in range(len(u_list_r)): #pick each ui_r from u_list_r\n",
    "                    ui_r_temp = u_list_r[i]\n",
    "                    y_hat_i = np.matmul( ui_r_temp, np.matmul(ui_r_temp.T, y) ) #project y onto each ui_r get y_hat_i\n",
    "                    residual_i = np.sqrt(sum( square(y-y_hat_i) )) #find the norm of y-y_hat_i\n",
    "                    residual.append(residual_i) #append 10 residual_i to residual list\n",
    "                \n",
    "                predicted_digit = index_of_minimum(residual) #the index of the minimum element is the list the predicted result for sample y\n",
    "                predict_list.append(predicted_digit) #append the prediction to predict_list based on current r\n",
    "            \n",
    "        predict_list_r_twostage.append(predict_list)  #put predict result list from 4 different r into a list\n",
    "        \n",
    "\n",
    "    return predict_list_r_twostage           \n",
    "    "
   ]
  },
  {
   "cell_type": "code",
   "execution_count": 35,
   "metadata": {},
   "outputs": [],
   "source": [
    "predict_list_r_twostage = classify_digit_twostage()"
   ]
  },
  {
   "cell_type": "code",
   "execution_count": 36,
   "metadata": {},
   "outputs": [
    {
     "name": "stdout",
     "output_type": "stream",
     "text": [
      "When r =  5   accuracy =  0.896\n",
      "When r =  10   accuracy =  0.918\n",
      "When r =  15   accuracy =  0.927\n",
      "When r =  20   accuracy =  0.934\n"
     ]
    }
   ],
   "source": [
    "#compare predicted labels and actual labels list\n",
    "for j in range(len(predict_list_r_twostage)):\n",
    "    r = rank[j]\n",
    "    predict_list = predict_list_r_twostage[j]\n",
    "    false = 0\n",
    "    true = 0\n",
    "\n",
    "    for i in range(len(predict_list)):\n",
    "        label = test_set_labels.iloc[i,:].values\n",
    "        predict = predict_list[i]\n",
    "        if (label==10) & (predict==0):\n",
    "            true = true + 1\n",
    "        elif label == predict:\n",
    "            true = true + 1\n",
    "        else:\n",
    "            false = false + 1\n",
    "    \n",
    "    accuracy = true / len(predict_list)\n",
    "    print('When r = ', r, '  accuracy = ', accuracy)"
   ]
  },
  {
   "cell_type": "code",
   "execution_count": null,
   "metadata": {},
   "outputs": [],
   "source": []
  }
 ],
 "metadata": {
  "kernelspec": {
   "display_name": "py3",
   "language": "python",
   "name": "py3"
  },
  "language_info": {
   "codemirror_mode": {
    "name": "ipython",
    "version": 3
   },
   "file_extension": ".py",
   "mimetype": "text/x-python",
   "name": "python",
   "nbconvert_exporter": "python",
   "pygments_lexer": "ipython3",
   "version": "3.6.10"
  }
 },
 "nbformat": 4,
 "nbformat_minor": 4
}
